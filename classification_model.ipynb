{
  "cells": [
    {
      "cell_type": "markdown",
      "metadata": {
        "id": "view-in-github",
        "colab_type": "text"
      },
      "source": [
        "<a href=\"https://colab.research.google.com/github/eschill04/TF-binding-classification-singh-lab/blob/main/classification_model.ipynb\" target=\"_parent\"><img src=\"https://colab.research.google.com/assets/colab-badge.svg\" alt=\"Open In Colab\"/></a>"
      ]
    },
    {
      "cell_type": "markdown",
      "source": [
        "<h2>Preprocessing Functions</h2>\n",
        "\n",
        "\n",
        "* Process data (fasta file --> ATCTG...)\n",
        "* Process sequences (ATCGT.... --> 4-col matrix)\n",
        "* Train validation split (divide training data into 70/30 train/val)\n",
        "\n",
        "\n"
      ],
      "metadata": {
        "id": "TSaqfYw71cet"
      }
    },
    {
      "cell_type": "code",
      "execution_count": null,
      "metadata": {
        "colab": {
          "base_uri": "https://localhost:8080/"
        },
        "id": "9Qb6_Z2ZzYQM",
        "outputId": "c0119669-c63d-4d14-f656-b2c9269040dd"
      },
      "outputs": [
        {
          "output_type": "stream",
          "name": "stdout",
          "text": [
            "Looking in indexes: https://pypi.org/simple, https://us-python.pkg.dev/colab-wheels/public/simple/\n",
            "Requirement already satisfied: biopython in /usr/local/lib/python3.7/dist-packages (1.79)\n",
            "Requirement already satisfied: numpy in /usr/local/lib/python3.7/dist-packages (from biopython) (1.21.6)\n",
            "Drive already mounted at /content/drive; to attempt to forcibly remount, call drive.mount(\"/content/drive\", force_remount=True).\n"
          ]
        }
      ],
      "source": [
        "!pip3 install biopython\n",
        "from numpy.ma.core import make_mask_none\n",
        "import os\n",
        "import random\n",
        "import torch\n",
        "import pandas as pd\n",
        "import numpy as np\n",
        "import scipy.stats as stats\n",
        "from Bio import SeqIO\n",
        "from torch import nn\n",
        "from torch.utils.data import Dataset\n",
        "from torch.utils.data import DataLoader\n",
        "from torchvision import datasets\n",
        "from torchvision.transforms import ToTensor, Lambda\n",
        "from google.colab import drive\n",
        "drive.mount('/content/drive')\n",
        "\n",
        "# Input: a sequence\n",
        "# Output: an array of values for each TF\n",
        "\n",
        "#CONSTANTS\n",
        "d = 16 #number of motif detectors\n",
        "m = 24 #len of motif detectors\n",
        "train_sequences = []\n",
        "train_data = []\n",
        "test_sequences = []\n",
        "test_data = []\n",
        "\n",
        "\n",
        "def process_sequences(sequences):\n",
        "  data = []\n",
        "  key = ['A', 'C', 'G', 'T']\n",
        "  for i in range(0, len(sequences)):\n",
        "    label = sequences[i].id\n",
        "    sequence = str(sequences[i].seq)\n",
        "    char_sequence = list(sequence)\n",
        "    shape = (2*m + len(char_sequence) - 2, 4)\n",
        "    tensor_sequence = torch.zeros(shape)\n",
        "    for i in range(0, 2*m + len(char_sequence) - 2):\n",
        "      for j in range(0, 4):\n",
        "        if i < (m) or i > (len(char_sequence) + m - 1):\n",
        "          tensor_sequence[i][j] = 0.25\n",
        "        elif char_sequence[i-m] == 'N':\n",
        "          tensor_sequence[i][j] = 0.25\n",
        "        elif char_sequence[i-m] == key[j]:\n",
        "          tensor_sequence[i][j] = 1\n",
        "        else:\n",
        "          tensor_sequence[i][j] = 0\n",
        "    data.append([int(label), tensor_sequence])\n",
        "  return data\n",
        "\n",
        "\n",
        "\n",
        "#PREPROCESSING METHOD\n",
        "def process_data(train_data_path, test_data_path):\n",
        "  train_tmp = SeqIO.parse(train_data_path, \"fasta\")\n",
        "  test_tmp = SeqIO.parse(test_data_path, \"fasta\")\n",
        "  for s in train_tmp:\n",
        "    train_sequences.append(s)\n",
        "  for s in test_tmp:\n",
        "    test_sequences.append(s)\n",
        "\n",
        "#TRAIN VALIDATIONN SPLIT METHOD\n",
        "def train_val_split(data, ratio):\n",
        "    train = []\n",
        "    len_orig = len(data)\n",
        "    while len(train) < ratio * len_orig:\n",
        "        idx = random.randint(0, len(data)-1)\n",
        "        train.append(data[idx])\n",
        "        data.pop(idx)\n",
        "    val = data\n",
        "    return train, val\n",
        "\n",
        "#RUN PREPROCESSING\n",
        "path = \"/content/drive/MyDrive/Colab Notebooks/Spring22/SinghLab/deepbind/\"\n",
        "i = 0\n",
        "train_data_path = \"/content/drive/MyDrive/Colab Notebooks/Spring22/SinghLab/deepbind/CTCF_K562_CTCF_-SC-15914-_Stanford/train.fa\"\n",
        "test_data_path = \"/content/drive/MyDrive/Colab Notebooks/Spring22/SinghLab/deepbind/CTCF_K562_CTCF_-SC-15914-_Stanford/test.fa\"\n",
        "process_data(train_data_path, test_data_path)\n",
        "tv_data = process_sequences(train_sequences)\n",
        "train_data, validation_data = train_val_split(tv_data, 0.7)\n",
        "test_data = process_sequences(test_sequences)\n"
      ]
    },
    {
      "cell_type": "markdown",
      "source": [
        "<h2>Define Dataset</h2>\n",
        "\n",
        "Instantiate datasets for all 3 preprocessed data"
      ],
      "metadata": {
        "id": "nIp_3o3o1KwN"
      }
    },
    {
      "cell_type": "code",
      "execution_count": null,
      "metadata": {
        "id": "9YBz4gW0fLrF",
        "colab": {
          "base_uri": "https://localhost:8080/"
        },
        "outputId": "27a8f4ef-c425-471e-b4cf-6234b215868d"
      },
      "outputs": [
        {
          "output_type": "stream",
          "name": "stdout",
          "text": [
            "75442\n",
            "32332\n",
            "1000\n"
          ]
        }
      ],
      "source": [
        "#DEFINE CUSTOM DATASET \n",
        "class CustomDataset(Dataset):\n",
        "    def __init__(self, data, data_labels, transform=None, target_transform=None):\n",
        "        self.data_labels = data_labels #make preprocessing fctn -- is 2d array of id, label\n",
        "        self.data = data #make preprocessing fctn -- is an array of the tensors NEED PROPER SHAPE\n",
        "        self.transform = transform\n",
        "        self.target_transform = target_transform\n",
        "\n",
        "    def __len__(self):\n",
        "        return len(self.data)\n",
        "\n",
        "    def __getitem__(self, idx):\n",
        "        datum = torch.tensor(self.data[idx][1]) #NEED DIFF FUNCTION\n",
        "        label = self.data[idx][0]\n",
        "        if self.transform:\n",
        "            datum = self.transform(datum)\n",
        "        if self.target_transform:\n",
        "            label = self.target_transform(label)\n",
        "        return datum, label\n",
        "\n",
        "#INSTANTIATE DATASETS\n",
        "train_dataset = CustomDataset(train_data, train_data)\n",
        "validation_dataset = CustomDataset(validation_data, train_data)\n",
        "test_dataset = CustomDataset(test_data, train_data)\n",
        "print(len(train_dataset))\n",
        "print(len(validation_dataset))\n",
        "print(len(test_dataset))"
      ]
    },
    {
      "cell_type": "markdown",
      "source": [
        "<h2>Wrap Dataloaders</h2>"
      ],
      "metadata": {
        "id": "NB3jIY-j1GNZ"
      }
    },
    {
      "cell_type": "code",
      "execution_count": null,
      "metadata": {
        "id": "qQ8_aTp_5qbu"
      },
      "outputs": [],
      "source": [
        "#WRAP DATALOADER ITERABLE\n",
        "train_dataloader = DataLoader(train_dataset, batch_size=300, shuffle=True)\n",
        "validation_dataloader = DataLoader(validation_dataset, batch_size=300, shuffle=True)\n",
        "test_dataloader = DataLoader(test_dataset, batch_size=1000, shuffle=True)"
      ]
    },
    {
      "cell_type": "markdown",
      "source": [
        "<h2>Build Model</h2>\n",
        "Conv1D --> ReLU --> MaxPool1D --> Linear --> Softmax"
      ],
      "metadata": {
        "id": "TDGevNy101l3"
      }
    },
    {
      "cell_type": "code",
      "execution_count": null,
      "metadata": {
        "id": "onnjieyqzigq"
      },
      "outputs": [],
      "source": [
        "from re import M\n",
        "#BUILD MODEL\n",
        "class Net(nn.Module):\n",
        "    def __init__(self):\n",
        "        super(Net, self).__init__()\n",
        "\n",
        "        # CONV LAYER\n",
        "        # input 64 x n+2m-2 (n = 40, m = 24 --> 86) x 4\n",
        "        self.conv1 = nn.Conv1d(4, d, m) #\"one dimensional feature map using a 4 channel input\"\n",
        "        \n",
        "        # RECTIFY LAYER\n",
        "        # try leaky relu\n",
        "        self.relu = nn.ReLU()\n",
        "\n",
        "        # MAXPOOL LAYER \n",
        "        self.maxpool = nn.MaxPool1d(5) # output 64 x 16 x 12\n",
        "\n",
        "        # NN LAYER (Note: could have hidden layer depending on which works better)\n",
        "        self.linear = nn.Linear(384, 2) \n",
        "\n",
        "        #SOFTMAX\n",
        "        #self.sigmoid = nn.Sigmoid()\n",
        "        self.softmax = nn.Softmax()\n",
        "\n",
        "        \n",
        "\n",
        "    def forward(self, x):\n",
        "        x = x.permute(0,2,1)\n",
        "        #print(x.shape)\n",
        "        c = self.conv1(x)\n",
        "        #print(c.shape)\n",
        "        r = self.relu(c) \n",
        "        #print(r.shape)\n",
        "        m = self.maxpool(r)\n",
        "        #print(m.shape)\n",
        "        m = m.flatten(1)\n",
        "        l = self.linear(m)\n",
        "        #print(l.shape)\n",
        "        out = self.softmax(l)\n",
        "        #print(out.shape)\n",
        "        #print(out)\n",
        "        return out.double()\n",
        "        \n",
        "model = Net()"
      ]
    },
    {
      "cell_type": "markdown",
      "source": [
        "<h2>Initialize Training/Validation Loss Arrays</h2>"
      ],
      "metadata": {
        "id": "yBn9-TFh0s_5"
      }
    },
    {
      "cell_type": "code",
      "source": [
        "loss_train = []\n",
        "loss_validation = []\n",
        "accuracy_graph = []"
      ],
      "metadata": {
        "id": "CQmLsDjMvYoV"
      },
      "execution_count": null,
      "outputs": []
    },
    {
      "cell_type": "markdown",
      "source": [
        "<h2>Define Training and Testing Loops</h2>"
      ],
      "metadata": {
        "id": "2Y3JQE8M0m_p"
      }
    },
    {
      "cell_type": "code",
      "execution_count": null,
      "metadata": {
        "id": "rN_W7Giazm7r",
        "colab": {
          "base_uri": "https://localhost:8080/"
        },
        "outputId": "e31b780e-e9ad-45c1-a9e0-a5169a571603"
      },
      "outputs": [
        {
          "output_type": "stream",
          "name": "stdout",
          "text": [
            "Epoch 0\n",
            "-------------------------------\n",
            "loss: 0.700563  [    0/75442]\n"
          ]
        },
        {
          "output_type": "stream",
          "name": "stderr",
          "text": [
            "/usr/local/lib/python3.7/dist-packages/ipykernel_launcher.py:13: UserWarning: To copy construct from a tensor, it is recommended to use sourceTensor.clone().detach() or sourceTensor.clone().detach().requires_grad_(True), rather than torch.tensor(sourceTensor).\n",
            "  del sys.path[0]\n",
            "/usr/local/lib/python3.7/dist-packages/ipykernel_launcher.py:39: UserWarning: Implicit dimension choice for softmax has been deprecated. Change the call to include dim=X as an argument.\n"
          ]
        },
        {
          "output_type": "stream",
          "name": "stdout",
          "text": [
            "loss: 0.595593  [30000/75442]\n",
            "loss: 0.540633  [60000/75442]\n",
            "Avg loss: 0.511606 \n",
            "\n",
            "Avg accuracy: 0.802270 \n",
            "\n",
            "Epoch 50\n",
            "-------------------------------\n",
            "loss: 0.401487  [    0/75442]\n",
            "loss: 0.386432  [30000/75442]\n",
            "loss: 0.388270  [60000/75442]\n",
            "Avg loss: 0.395459 \n",
            "\n",
            "Avg accuracy: 0.915533 \n",
            "\n",
            "Done!\n"
          ]
        }
      ],
      "source": [
        "learning_rate = .5 #THEY USE BETWEEN .05 and .0005\n",
        "batch_size = 300\n",
        "epochs = 100\n",
        "\n",
        "#Notes: specific learning momentum, weight decay, etc. still not included here (default to pytorch)\n",
        "# epoch number is a guess, they use 20,000 learning steps divided into 5 4,000 step segments\n",
        "\n",
        "\n",
        "# Initialize the loss function annd optimizer\n",
        "loss_fn = nn.CrossEntropyLoss() # MSE is specific to PBM #Binary Cross Entropy\n",
        "optimizer = torch.optim.SGD(model.parameters(), lr=learning_rate) #Paper specifies SGD\n",
        "\n",
        "#####################################\n",
        "# Inside the training loop, optimization happens in three steps:\n",
        "#  * Call ``optimizer.zero_grad()`` to reset the gradients of model parameters. Gradients by default add up; to prevent double-counting, we explicitly zero them at each iteration.\n",
        "#  * Backpropagate the prediction loss with a call to ``loss.backward()``. PyTorch deposits the gradients of the loss w.r.t. each parameter.\n",
        "#  * Once we have our gradients, we call ``optimizer.step()`` to adjust the parameters by the gradients collected in the backward pass.\n",
        "\n",
        "\n",
        "def train_loop(dataloader, model, loss_fn, optimizer, t):\n",
        "    size = len(dataloader.dataset)\n",
        "    loss_avg = 0.0\n",
        "    num_batches = len(dataloader)\n",
        "    for batch, (X, y) in enumerate(dataloader):\n",
        "        # Compute prediction and loss\n",
        "        pred = model(X)\n",
        "        #print(pred)\n",
        "        #print(X)\n",
        "        #print(y)\n",
        "        loss = loss_fn(pred, y)\n",
        "        loss_avg += loss.item()\n",
        "        \n",
        "        # Backpropagation\n",
        "        optimizer.zero_grad()\n",
        "        loss.backward()\n",
        "        #torch.nn.utils.clip_grad_norm_(model.parameters(), .001)\n",
        "        optimizer.step()\n",
        "\n",
        "        if batch % 100 == 0:\n",
        "            loss, current = loss.item(), batch * len(X)\n",
        "            if t%50 == 0:\n",
        "              print(f\"loss: {loss:>7f}  [{current:>5d}/{size:>5d}]\")\n",
        "    loss_avg /= num_batches\n",
        "    loss_train.append(loss_avg)\n",
        "\n",
        "\n",
        "def get_total_correct(pred, y):\n",
        "  sum = 0\n",
        "  for i in range(0, len(pred)):\n",
        "    ans = 0\n",
        "    if pred[i][1] > pred[i][0]:\n",
        "      ans = 1\n",
        "    if ans == y[i]:\n",
        "      sum = sum + 1\n",
        "  return sum\n",
        "\n",
        "def validation_loop(dataloader, model, loss_fn, t):\n",
        "    size = len(dataloader.dataset)\n",
        "    num_batches = len(dataloader)\n",
        "    val_loss, correct = 0, 0\n",
        "\n",
        "    with torch.no_grad():\n",
        "        for X, y in dataloader:\n",
        "            pred = model(X)\n",
        "            val_loss += loss_fn(pred, y).item()\n",
        "            #loss_test.append(loss_fn(pred, y).item())\n",
        "            correct += get_total_correct(pred, y)\n",
        "    val_loss /= num_batches\n",
        "    correct /= size\n",
        "    accuracy_graph.append(correct)\n",
        "    loss_validation.append(val_loss)\n",
        "    if t%50 == 0:\n",
        "      print(f\"Avg loss: {val_loss:>8f} \\n\")\n",
        "      print(f\"Avg accuracy: {correct:>8f} \\n\")\n",
        "\n",
        "\n",
        "for t in range(epochs):\n",
        "    if t%50 == 0:\n",
        "      print(f\"Epoch {t}\\n-------------------------------\")\n",
        "    train_loop(train_dataloader, model, loss_fn, optimizer, t)\n",
        "    validation_loop(validation_dataloader, model, loss_fn, t)\n",
        "print(\"Done!\")"
      ]
    },
    {
      "cell_type": "markdown",
      "source": [
        "<h2>Plot Training and Validation Loss</h2>"
      ],
      "metadata": {
        "id": "YyZiZq9W0g7C"
      }
    },
    {
      "cell_type": "code",
      "execution_count": null,
      "metadata": {
        "id": "e7XFa9TlBde6",
        "colab": {
          "base_uri": "https://localhost:8080/",
          "height": 295
        },
        "outputId": "2e8e9b71-080b-4f60-9cb4-2ecb9a373bfd"
      },
      "outputs": [
        {
          "output_type": "display_data",
          "data": {
            "text/plain": [
              "<Figure size 432x288 with 1 Axes>"
            ],
            "image/png": "[encoded data removed]"
          },
          "metadata": {
            "needs_background": "light"
          }
        }
      ],
      "source": [
        "import matplotlib.pyplot as plt\n",
        "def moving_average(x, w):\n",
        "    return np.convolve(x, np.ones(w), 'valid') / w\n",
        "size = 100\n",
        "epochs = range(0,size)\n",
        "plt.plot(epochs, loss_train[0:size], 'g', label='Training loss')\n",
        "plt.plot(epochs, loss_validation[0:size], 'r', label='Validation loss')\n",
        "#plt.plot(epochs, accuracy_graph[0:size], 'g', label='Accuracy')\n",
        "plt.title('Transcription Factor: CTCF')\n",
        "plt.xlabel('Epochs')\n",
        "plt.ylabel('Loss')\n",
        "plt.legend()\n",
        "plt.show()"
      ]
    },
    {
      "cell_type": "markdown",
      "source": [
        "<h2>Calculate Testing Accuracy</h2>"
      ],
      "metadata": {
        "id": "jIGEyUQfzteI"
      }
    },
    {
      "cell_type": "code",
      "execution_count": null,
      "metadata": {
        "id": "eQ71PfLynra3",
        "colab": {
          "base_uri": "https://localhost:8080/"
        },
        "outputId": "d2b4b802-c0c9-4ba3-a6a4-a930b086105f"
      },
      "outputs": [
        {
          "output_type": "stream",
          "name": "stdout",
          "text": [
            "Test accuracy: 94.89999999999999%\n"
          ]
        },
        {
          "output_type": "stream",
          "name": "stderr",
          "text": [
            "/usr/local/lib/python3.7/dist-packages/ipykernel_launcher.py:13: UserWarning: To copy construct from a tensor, it is recommended to use sourceTensor.clone().detach() or sourceTensor.clone().detach().requires_grad_(True), rather than torch.tensor(sourceTensor).\n",
            "  del sys.path[0]\n",
            "/usr/local/lib/python3.7/dist-packages/ipykernel_launcher.py:39: UserWarning: Implicit dimension choice for softmax has been deprecated. Change the call to include dim=X as an argument.\n"
          ]
        }
      ],
      "source": [
        "#get testing accuracy\n",
        "with torch.no_grad():\n",
        "  correct = 0\n",
        "  for X, y in test_dataloader:\n",
        "    pred = model(X)\n",
        "    correct += get_total_correct(pred, y)\n",
        "  correct /= 1000\n",
        "  print(\"Test accuracy:\", str(100*correct) + \"%\")"
      ]
    },
    {
      "cell_type": "markdown",
      "source": [
        "<h2>Save Model to Drive</h2>"
      ],
      "metadata": {
        "id": "4kDJN6IPz79g"
      }
    },
    {
      "cell_type": "code",
      "execution_count": null,
      "metadata": {
        "id": "w6GQ0-iKDUjZ"
      },
      "outputs": [],
      "source": [
        "#save model\n",
        "torch.save({'model_state_dict': model.state_dict(),\n",
        "            'optimizer_state_dict': optimizer.state_dict(),\n",
        "            'loss_validation': loss_validation,'loss_train':loss_train\n",
        "            }, '/content/drive/MyDrive/Colab Notebooks/Spring22/SinghLab/modelCTCF.pt')\n"
      ]
    }
  ],
  "metadata": {
    "accelerator": "GPU",
    "colab": {
      "collapsed_sections": [],
      "provenance": [],
      "authorship_tag": "ABX9TyPf0l8sDRbIdetkvDPxNUc9",
      "include_colab_link": true
    },
    "kernelspec": {
      "display_name": "Python 3",
      "name": "python3"
    },
    "language_info": {
      "name": "python"
    }
  },
  "nbformat": 4,
  "nbformat_minor": 0
}